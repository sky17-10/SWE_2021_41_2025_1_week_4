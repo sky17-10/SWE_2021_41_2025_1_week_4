{
  "nbformat": 4,
  "nbformat_minor": 0,
  "metadata": {
    "colab": {
      "provenance": []
    },
    "kernelspec": {
      "name": "python3",
      "display_name": "Python 3"
    },
    "language_info": {
      "name": "python"
    }
  },
  "cells": [
    {
      "cell_type": "code",
      "execution_count": 63,
      "metadata": {
        "id": "5FcxitVf5kdQ",
        "colab": {
          "base_uri": "https://localhost:8080/"
        },
        "outputId": "c049be84-6199-4b9b-c6ea-2166da5c19c9"
      },
      "outputs": [
        {
          "output_type": "stream",
          "name": "stdout",
          "text": [
            "True\n",
            "False\n"
          ]
        },
        {
          "output_type": "execute_result",
          "data": {
            "text/plain": [
              "bool"
            ]
          },
          "metadata": {},
          "execution_count": 63
        }
      ],
      "source": [
        "def isHappy(n):\n",
        "    num1 = n\n",
        "    sum = 0\n",
        "    seen = set()\n",
        "\n",
        "    while True:\n",
        "        sum = 0\n",
        "\n",
        "        while num1 > 0:\n",
        "            num = num1 % 10\n",
        "            num1 = num1 // 10\n",
        "            sum += num * num\n",
        "\n",
        "        if sum == 1:\n",
        "            return True\n",
        "        if sum in seen:\n",
        "            return False\n",
        "\n",
        "        seen.add(sum)\n",
        "        num1 = sum\n",
        "\n",
        "\n",
        "print(isHappy(19))\n",
        "print(isHappy(16))\n",
        "type(isHappy(3))\n"
      ]
    }
  ]
}